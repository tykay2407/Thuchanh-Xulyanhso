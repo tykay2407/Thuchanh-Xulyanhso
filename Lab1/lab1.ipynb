{
 "cells": [
  {
   "cell_type": "code",
   "execution_count": null,
   "id": "e6b479f3",
   "metadata": {},
   "outputs": [],
   "source": [
    "#cau1\n",
    "\n",
    "from PIL import Image\n",
    "\n",
    "img = Image.open(\"bird.png\")\n",
    "r, g, b = img.split()\n",
    "black = Image.new(\"L\", img.size)\n",
    "\n",
    "red_img = Image.merge(\"RGB\", (r, black, black))    \n",
    "green_img = Image.merge(\"RGB\", (black, g, black)) \n",
    "blue_img = Image.merge(\"RGB\", (black, black, b))   \n",
    "\n",
    "red_img.save(\"anh_mau_do.png\")\n",
    "green_img.save(\"anh_mau_luc.png\")\n",
    "blue_img.save(\"anh_mau_lam.png\")\n",
    "\n"
   ]
  },
  {
   "cell_type": "code",
   "execution_count": null,
   "id": "c5540308",
   "metadata": {},
   "outputs": [],
   "source": [
    "#cau2\n",
    "\n",
    "from PIL import Image\n",
    "\n",
    "img = Image.open(\"bird.png\")  \n",
    "r, g, b = img.split()\n",
    "\n",
    "img_rg = Image.merge(\"RGB\", (g, r, b)) \n",
    "img_gb = Image.merge(\"RGB\", (r, b, g))  \n",
    "img_rb = Image.merge(\"RGB\", (b, g, r))\n",
    "\n",
    "img_rg.save(\"anh_doi_R_G.png\")\n",
    "img_gb.save(\"anh_doi_G_B.png\")\n",
    "img_rb.save(\"anh_doi_R_B.png\")\n",
    "\n"
   ]
  },
  {
   "cell_type": "code",
   "execution_count": null,
   "id": "0cc3efe0",
   "metadata": {},
   "outputs": [],
   "source": [
    "#cau3\n",
    "\n",
    "import cv2\n",
    "import numpy as np\n",
    "\n",
    "img = cv2.imread(\"bird.png\") \n",
    "hsv_img = cv2.cvtColor(img, cv2.COLOR_BGR2HSV) \n",
    "h, s, v = cv2.split(hsv_img)\n",
    "\n",
    "hue_img = cv2.merge([h, np.full_like(h, 255), np.full_like(h, 255)])\n",
    "hue_bgr = cv2.cvtColor(hue_img, cv2.COLOR_HSV2BGR)\n",
    "sat_img = cv2.merge([np.zeros_like(s), s, np.full_like(s, 255)])\n",
    "sat_bgr = cv2.cvtColor(sat_img, cv2.COLOR_HSV2BGR)\n",
    "val_img = cv2.merge([np.zeros_like(v), np.zeros_like(v), v])\n",
    "val_bgr = cv2.cvtColor(val_img, cv2.COLOR_HSV2BGR)\n",
    "\n",
    "cv2.imwrite(\"kenh_Hue.png\", hue_bgr)\n",
    "cv2.imwrite(\"kenh_Saturation.png\", sat_bgr)\n",
    "cv2.imwrite(\"kenh_Value.png\", val_bgr)\n",
    "\n"
   ]
  },
  {
   "cell_type": "code",
   "execution_count": null,
   "id": "8c8b4594",
   "metadata": {},
   "outputs": [],
   "source": [
    "#cau4\n",
    "import cv2\n",
    "import numpy as np\n",
    "\n",
    "\n",
    "img = cv2.imread(\"bird.png\")  \n",
    "hsv = cv2.cvtColor(img, cv2.COLOR_BGR2HSV) \n",
    "\n",
    "h, s, v = cv2.split(hsv)\n",
    "\n",
    "h_new = np.clip((h.astype(np.float32) / 3), 0, 179).astype(np.uint8)\n",
    "v_new = np.clip((v.astype(np.float32) * 0.75), 0, 255).astype(np.uint8)\n",
    "\n",
    "new_hsv = cv2.merge([h_new, s, v_new])\n",
    "\n",
    "output_img = cv2.cvtColor(new_hsv, cv2.COLOR_HSV2BGR)\n",
    "\n",
    "cv2.imwrite(\"anh_HSV_chinh_sua.jpg\", output_img)\n",
    "\n"
   ]
  },
  {
   "cell_type": "code",
   "execution_count": null,
   "id": "355a5ab8",
   "metadata": {},
   "outputs": [],
   "source": [
    "#cau5\n",
    "\n",
    "import cv2\n",
    "import os\n",
    "\n",
    "input_folder = \"exercise\"\n",
    "output_folder = \"Exercise_Filtered_Mean\"\n",
    "\n",
    "os.makedirs(output_folder, exist_ok=True)\n",
    "\n",
    "for filename in os.listdir(input_folder):\n",
    "        input_path = os.path.join(input_folder, filename)\n",
    "        output_path = os.path.join(output_folder, f\"mean_{filename}\")\n",
    "\n",
    "        img = cv2.imread(input_path)\n",
    "\n",
    "        if img is not None:\n",
    "            filtered = cv2.blur(img, (5, 5))\n",
    "            cv2.imwrite(output_path, filtered)\n",
    "            print(f\"Đã xử lý: {filename}\")\n",
    "        else:\n",
    "            print(f\"Lỗi: Không thể đọc {filename}\")\n",
    "\n",
    "\n"
   ]
  }
 ],
 "metadata": {
  "kernelspec": {
   "display_name": "Python 3",
   "language": "python",
   "name": "python3"
  },
  "language_info": {
   "codemirror_mode": {
    "name": "ipython",
    "version": 3
   },
   "file_extension": ".py",
   "mimetype": "text/x-python",
   "name": "python",
   "nbconvert_exporter": "python",
   "pygments_lexer": "ipython3",
   "version": "3.11.9"
  }
 },
 "nbformat": 4,
 "nbformat_minor": 5
}
